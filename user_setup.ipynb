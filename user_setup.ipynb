{
 "cells": [
  {
   "cell_type": "code",
   "execution_count": 1,
   "metadata": {},
   "outputs": [
    {
     "name": "stderr",
     "output_type": "stream",
     "text": [
      "/opt/conda/envs/video/lib/python3.11/site-packages/tqdm/auto.py:21: TqdmWarning: IProgress not found. Please update jupyter and ipywidgets. See https://ipywidgets.readthedocs.io/en/stable/user_install.html\n",
      "  from .autonotebook import tqdm as notebook_tqdm\n"
     ]
    },
    {
     "data": {
      "text/plain": [
       "('pretrained_weights/bert/bert-base-uncased/tokenizer_config.json',\n",
       " 'pretrained_weights/bert/bert-base-uncased/special_tokens_map.json',\n",
       " 'pretrained_weights/bert/bert-base-uncased/vocab.txt',\n",
       " 'pretrained_weights/bert/bert-base-uncased/added_tokens.json')"
      ]
     },
     "execution_count": 1,
     "metadata": {},
     "output_type": "execute_result"
    }
   ],
   "source": [
    "from transformers import BertModel, BertTokenizer\n",
    "bert = BertModel.from_pretrained('bert-base-uncased')\n",
    "bert_tokenizer = BertTokenizer.from_pretrained('bert-base-uncased')\n",
    "bert.save_pretrained('pretrained_weights/bert/bert-base-uncased')\n",
    "bert_tokenizer.save_pretrained('pretrained_weights/bert/bert-base-uncased')"
   ]
  },
  {
   "cell_type": "markdown",
   "metadata": {},
   "source": [
    "## VAST models and captioners weights\n",
    "1. Download pretrained weights in Google drive to Google Cloud Storage: https://gist.github.com/wenxinwilliam/265424c782c1ab5e9532043e7656eb9e\n",
    "2. Download pretrained weights from Google Cloud Storage to vm `gsutil cp \"gs://persona-dataset/vast/*.gz\" ..`\n",
    "3. Extract pretrained weights folders into the following folder structure:\n",
    "  ```\n",
    "  ├── output\n",
    "  │   ├── vast\n",
    "  │   │   ├── pretrain_vast\n",
    "  │   │   ├── vision_captioner\n",
    "  │   │   └── audio_captioner\n",
    "  ```\n",
    "\n",
    "## Notes\n",
    "1. Changed `nproc_per_node` to 1 because program won't run with 8.\n",
    "2. Test mode settings are in the `hps.json` config file, where the default encoder values like `clip_vit_base_16` are set."
   ]
  }
 ],
 "metadata": {
  "kernelspec": {
   "display_name": "video",
   "language": "python",
   "name": "python3"
  },
  "language_info": {
   "codemirror_mode": {
    "name": "ipython",
    "version": 3
   },
   "file_extension": ".py",
   "mimetype": "text/x-python",
   "name": "python",
   "nbconvert_exporter": "python",
   "pygments_lexer": "ipython3",
   "version": "3.11.8"
  }
 },
 "nbformat": 4,
 "nbformat_minor": 2
}
